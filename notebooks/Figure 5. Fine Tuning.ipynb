{
 "cells": [
  {
   "cell_type": "markdown",
   "id": "ac73e52a",
   "metadata": {},
   "source": [
    "# Notebook for the making of Figure 5 - Fine Tuning"
   ]
  },
  {
   "cell_type": "code",
   "execution_count": 1,
   "id": "3b04a88a",
   "metadata": {},
   "outputs": [
    {
     "name": "stdout",
     "output_type": "stream",
     "text": [
      "2.2.0\n",
      "Num GPUs Available:  1\n"
     ]
    },
    {
     "name": "stderr",
     "output_type": "stream",
     "text": [
      "2023-12-15 18:26:18.558174: I tensorflow/stream_executor/platform/default/dso_loader.cc:44] Successfully opened dynamic library libcuda.so.1\n",
      "2023-12-15 18:26:18.678887: I tensorflow/core/common_runtime/gpu/gpu_device.cc:1561] Found device 0 with properties: \n",
      "pciBusID: 0004:04:00.0 name: Tesla V100-SXM2-32GB computeCapability: 7.0\n",
      "coreClock: 1.53GHz coreCount: 80 deviceMemorySize: 31.50GiB deviceMemoryBandwidth: 836.37GiB/s\n",
      "2023-12-15 18:26:18.685931: I tensorflow/stream_executor/platform/default/dso_loader.cc:44] Successfully opened dynamic library libcudart.so.10.1\n",
      "2023-12-15 18:26:18.700743: I tensorflow/stream_executor/platform/default/dso_loader.cc:44] Successfully opened dynamic library libcublas.so.10\n",
      "2023-12-15 18:26:18.707384: I tensorflow/stream_executor/platform/default/dso_loader.cc:44] Successfully opened dynamic library libcufft.so.10\n",
      "2023-12-15 18:26:18.714444: I tensorflow/stream_executor/platform/default/dso_loader.cc:44] Successfully opened dynamic library libcurand.so.10\n",
      "2023-12-15 18:26:18.720386: I tensorflow/stream_executor/platform/default/dso_loader.cc:44] Successfully opened dynamic library libcusolver.so.10\n",
      "2023-12-15 18:26:18.726073: I tensorflow/stream_executor/platform/default/dso_loader.cc:44] Successfully opened dynamic library libcusparse.so.10\n",
      "2023-12-15 18:26:19.120448: I tensorflow/stream_executor/platform/default/dso_loader.cc:44] Successfully opened dynamic library libcudnn.so.7\n",
      "2023-12-15 18:26:19.121037: I tensorflow/core/common_runtime/gpu/gpu_device.cc:1703] Adding visible gpu devices: 0\n"
     ]
    }
   ],
   "source": [
    "import numpy as np\n",
    "import pylab as plt\n",
    "from numpy.fft import fftshift, ifftshift\n",
    "import tensorflow as tf \n",
    "from mpl_toolkits.axes_grid1 import make_axes_locatable\n",
    "import sys\n",
    "from predict_phase_2D_utilities import *\n",
    "\n",
    "print(tf.__version__)\n",
    "print(\"Num GPUs Available: \", len(tf.config.experimental.list_physical_devices('GPU')))\n",
    "\n",
    "from functions import*\n",
    "from interpolation_functions import*\n",
    "from line_cross_standard_utilities import *\n",
    "from line_cross_tensorflow_prediction_utilities import *\n",
    "\n",
    "plt.rcParams['image.cmap'] = 'plasma'"
   ]
  },
  {
   "cell_type": "markdown",
   "id": "edb017e7",
   "metadata": {},
   "source": [
    "# Load a diffraction pattern"
   ]
  },
  {
   "cell_type": "code",
   "execution_count": 2,
   "id": "9dda4781",
   "metadata": {},
   "outputs": [],
   "source": [
    "path = 'path_for_image3'\n",
    "data_full = np.load(path)\n",
    "data = data_full['I']\n",
    "data = np.swapaxes(data,1,2)\n"
   ]
  },
  {
   "cell_type": "markdown",
   "id": "d5f021f5",
   "metadata": {},
   "source": [
    "# Add mask and preprocess"
   ]
  },
  {
   "cell_type": "code",
   "execution_count": 3,
   "id": "1cbd60ba",
   "metadata": {},
   "outputs": [
    {
     "name": "stdout",
     "output_type": "stream",
     "text": [
      "gap_shape : line\n",
      "axis_perpendicular : 1\n",
      "gap_size : 6\n",
      "mask_position : 63\n"
     ]
    }
   ],
   "source": [
    "mask = add_vertical_gap3D(data, gap_size = 6, gap_position = 64, min_distance_from_center = 0)\n",
    "data_masked_linear = data*(1.-mask)\n",
    "data_masked, maxi_rescale1, maxi_rescale2 = data_preprocessing(data_masked_linear)\n",
    "gap_params = find_gap_parameters(mask, verbose=True)"
   ]
  },
  {
   "cell_type": "markdown",
   "id": "1802a8d8",
   "metadata": {},
   "source": [
    "# Load the corresponding model"
   ]
  },
  {
   "cell_type": "code",
   "execution_count": 4,
   "id": "5a03c7c9",
   "metadata": {},
   "outputs": [
    {
     "name": "stdout",
     "output_type": "stream",
     "text": [
      "model path : /data/projects/id01ml/SavedModels/3D_inpainting_portions32_6px_cross/\n",
      "This gap size model exists\n",
      "2.2.0\n",
      "Num GPUs Available:  1\n"
     ]
    },
    {
     "name": "stderr",
     "output_type": "stream",
     "text": [
      "2023-12-15 18:26:23.784067: I tensorflow/core/platform/profile_utils/cpu_utils.cc:102] CPU Frequency: 3800000000 Hz\n",
      "2023-12-15 18:26:23.785195: I tensorflow/compiler/xla/service/service.cc:168] XLA service 0x2f717600 initialized for platform Host (this does not guarantee that XLA will be used). Devices:\n",
      "2023-12-15 18:26:23.785212: I tensorflow/compiler/xla/service/service.cc:176]   StreamExecutor device (0): Host, Default Version\n",
      "2023-12-15 18:26:23.927124: I tensorflow/compiler/xla/service/service.cc:168] XLA service 0x2f6863c0 initialized for platform CUDA (this does not guarantee that XLA will be used). Devices:\n",
      "2023-12-15 18:26:23.927167: I tensorflow/compiler/xla/service/service.cc:176]   StreamExecutor device (0): Tesla V100-SXM2-32GB, Compute Capability 7.0\n",
      "2023-12-15 18:26:23.927572: I tensorflow/core/common_runtime/gpu/gpu_device.cc:1561] Found device 0 with properties: \n",
      "pciBusID: 0004:04:00.0 name: Tesla V100-SXM2-32GB computeCapability: 7.0\n",
      "coreClock: 1.53GHz coreCount: 80 deviceMemorySize: 31.50GiB deviceMemoryBandwidth: 836.37GiB/s\n",
      "2023-12-15 18:26:23.927624: I tensorflow/stream_executor/platform/default/dso_loader.cc:44] Successfully opened dynamic library libcudart.so.10.1\n",
      "2023-12-15 18:26:23.927642: I tensorflow/stream_executor/platform/default/dso_loader.cc:44] Successfully opened dynamic library libcublas.so.10\n",
      "2023-12-15 18:26:23.927658: I tensorflow/stream_executor/platform/default/dso_loader.cc:44] Successfully opened dynamic library libcufft.so.10\n",
      "2023-12-15 18:26:23.927672: I tensorflow/stream_executor/platform/default/dso_loader.cc:44] Successfully opened dynamic library libcurand.so.10\n",
      "2023-12-15 18:26:23.927686: I tensorflow/stream_executor/platform/default/dso_loader.cc:44] Successfully opened dynamic library libcusolver.so.10\n",
      "2023-12-15 18:26:23.927700: I tensorflow/stream_executor/platform/default/dso_loader.cc:44] Successfully opened dynamic library libcusparse.so.10\n",
      "2023-12-15 18:26:23.927713: I tensorflow/stream_executor/platform/default/dso_loader.cc:44] Successfully opened dynamic library libcudnn.so.7\n",
      "2023-12-15 18:26:23.928204: I tensorflow/core/common_runtime/gpu/gpu_device.cc:1703] Adding visible gpu devices: 0\n",
      "2023-12-15 18:26:23.928225: I tensorflow/stream_executor/platform/default/dso_loader.cc:44] Successfully opened dynamic library libcudart.so.10.1\n",
      "2023-12-15 18:26:23.928557: I tensorflow/core/common_runtime/gpu/gpu_device.cc:1102] Device interconnect StreamExecutor with strength 1 edge matrix:\n",
      "2023-12-15 18:26:23.928565: I tensorflow/core/common_runtime/gpu/gpu_device.cc:1108]      0 \n",
      "2023-12-15 18:26:23.928571: I tensorflow/core/common_runtime/gpu/gpu_device.cc:1121] 0:   N \n",
      "2023-12-15 18:26:23.929178: I tensorflow/core/common_runtime/gpu/gpu_device.cc:1247] Created TensorFlow device (/job:localhost/replica:0/task:0/device:GPU:0 with 30037 MB memory) -> physical GPU (device: 0, name: Tesla V100-SXM2-32GB, pci bus id: 0004:04:00.0, compute capability: 7.0)\n"
     ]
    },
    {
     "name": "stdout",
     "output_type": "stream",
     "text": [
      "Models loading done.\n"
     ]
    }
   ],
   "source": [
    "from tensorflow.keras import losses\n",
    "keras.losses.custom_loss = MyLoss_noisy\n",
    "\n",
    "model_path = '/data/projects/id01ml/SavedModels/3D_inpainting_portions32_{}px_cross/'.format(gap_params['gap_size'])\n",
    "print('model path :', model_path)\n",
    "if os.path.exists(model_path):\n",
    "    print('This gap size model exists')\n",
    "    import tensorflow as tf \n",
    "    print(tf.__version__)\n",
    "    print(\"Num GPUs Available: \", len(tf.config.experimental.list_physical_devices('GPU')))\n",
    "    model = tf.keras.models.load_model(model_path, custom_objects=None, compile=False)\n",
    "    new_model = tf.keras.models.load_model(model_path,custom_objects = {'MyLoss_noisy' :MyLoss_noisy})\n",
    "    print('Models loading done.')\n",
    "else:\n",
    "    print('Error, this gap size model doesn\\'t exits yet')"
   ]
  },
  {
   "cell_type": "markdown",
   "id": "c31ce9bd",
   "metadata": {},
   "source": [
    "# Create a dataset generator from the target image"
   ]
  },
  {
   "cell_type": "code",
   "execution_count": 5,
   "id": "d0787a4f",
   "metadata": {},
   "outputs": [],
   "source": [
    "dataset = create_target_dataset(data, mask, nb_images = int(32*200))\n",
    "data_gen = create_datagenerator_ft(dataset, gap_size = gap_params['gap_size'])"
   ]
  },
  {
   "cell_type": "code",
   "execution_count": 6,
   "id": "fc95f1a7",
   "metadata": {},
   "outputs": [
    {
     "name": "stderr",
     "output_type": "stream",
     "text": [
      "2023-12-13 14:33:16.629722: I tensorflow/stream_executor/platform/default/dso_loader.cc:44] Successfully opened dynamic library libcudnn.so.7\n",
      "2023-12-13 14:33:22.860794: I tensorflow/stream_executor/platform/default/dso_loader.cc:44] Successfully opened dynamic library libcublas.so.10\n"
     ]
    },
    {
     "name": "stdout",
     "output_type": "stream",
     "text": [
      "The average pretrained model accuracy is:  68.61349083483219\n",
      "The average pretrained model loss is:  2.224277563393116\n"
     ]
    }
   ],
   "source": [
    "acc = 0\n",
    "tot_loss = 0\n",
    "for i in range(32):\n",
    "    X,y = data_gen.__getitem__(i)\n",
    "    y_pred = model(X)\n",
    "    acc += accuracy(y[:,...,0], y_pred[:,...,0], y[:,...,1])\n",
    "    \n",
    "    loss = np.mean(MyLoss_noisy(y,y_pred))\n",
    "    tot_loss+=loss\n",
    "print('The average pretrained model accuracy is: ', acc/32)\n",
    "print('The average pretrained model loss is: ', tot_loss/32)\n"
   ]
  },
  {
   "cell_type": "code",
   "execution_count": 7,
   "id": "8797685d",
   "metadata": {},
   "outputs": [],
   "source": [
    "loss = MyLoss_noisy\n",
    "optimizer=tf.keras.optimizers.Adam(learning_rate=5e-8)\n",
    "\n",
    "loss_train = []\n",
    "loss_val = []\n",
    "\n",
    "new_model.compile(optimizer=keras.optimizers.Adam(),\n",
    "              loss=MyLoss_noisy)"
   ]
  },
  {
   "cell_type": "code",
   "execution_count": 8,
   "id": "f071b785",
   "metadata": {},
   "outputs": [
    {
     "name": "stdout",
     "output_type": "stream",
     "text": [
      "Epoch 1/2\n",
      "200/200 [==============================] - 29s 146ms/step - loss: 1.7941\n",
      "Epoch 2/2\n",
      "200/200 [==============================] - 29s 146ms/step - loss: 1.4354\n"
     ]
    }
   ],
   "source": [
    "history = new_model.fit(data_gen, epochs=2)"
   ]
  },
  {
   "cell_type": "code",
   "execution_count": 9,
   "id": "95651352",
   "metadata": {},
   "outputs": [
    {
     "name": "stdout",
     "output_type": "stream",
     "text": [
      "1 2 3 4 5 6 7 8 9 10 11 12 13 14 15 16 17 18 19 20 21 22 23 24 25 26 27 28 29 30 31 32 33 34 35 36 37 38 39 39 39 "
     ]
    }
   ],
   "source": [
    "skip_pixels = 0\n",
    "prediction_ft = gap_prediction(data_masked, mask, gap_params, new_model,\n",
    "                   skip_pixels=skip_pixels)\n"
   ]
  },
  {
   "cell_type": "code",
   "execution_count": 10,
   "metadata": {},
   "outputs": [
    {
     "name": "stdout",
     "output_type": "stream",
     "text": [
      "1 2 3 4 5 6 7 8 9 10 11 12 13 14 15 16 17 18 19 20 21 22 23 24 25 26 27 28 29 30 31 32 33 34 35 36 37 38 39 39 39 "
     ]
    }
   ],
   "source": [
    "\n",
    "skip_pixels = 0\n",
    "prediction_gen = gap_prediction(data_masked, mask, gap_params, model,\n",
    "                   skip_pixels=skip_pixels)"
   ]
  },
  {
   "cell_type": "code",
   "execution_count": 11,
   "id": "fe89cef0",
   "metadata": {},
   "outputs": [],
   "source": [
    "prediction_linear_ft = post_processing_prediction(prediction_ft, maxi_rescale1, maxi_rescale2)\n",
    "prediction_linear_gen = post_processing_prediction(prediction_gen, maxi_rescale1, maxi_rescale2)\n"
   ]
  },
  {
   "cell_type": "code",
   "execution_count": 16,
   "metadata": {},
   "outputs": [
    {
     "data": {
      "image/png": "[encoded data removed]",
      "text/plain": [
       "<Figure size 864x576 with 6 Axes>"
      ]
     },
     "metadata": {
      "needs_background": "light"
     },
     "output_type": "display_data"
    }
   ],
   "source": [
    "from matplotlib.colors import LogNorm\n",
    "\n",
    "delta=15\n",
    "\n",
    "nrow = 1\n",
    "ncol = 3\n",
    "fig,ax = plt.subplots(nrow,ncol, figsize=(4*ncol,8*nrow))\n",
    "\n",
    "img = []\n",
    "img.append(ax[0].imshow(data[:,64-delta:64+delta,81], norm = LogNorm(vmin = None, vmax = None)))\n",
    "\n",
    "ax[0].axvline(x = 11.5,color = 'w', linestyle = 'dashed')\n",
    "ax[0].axvline(x = 17.5,color = 'w', linestyle = 'dashed')\n",
    "ax[0].set_title('$\\mathbf{a}$ Ground Truth', fontsize = 23)\n",
    "img.append(ax[1].imshow(prediction_linear_gen[:,64-delta:64+delta,81],norm = LogNorm(vmin = None, vmax = None)))\n",
    "\n",
    "ax[1].axvline(x = 11.5,color = 'w', linestyle = 'dashed')\n",
    "ax[1].axvline(x = 17.5,color = 'w', linestyle = 'dashed')\n",
    "\n",
    "ax[1].set_title('$\\mathbf{b}$ DL prediction \\n before Fine Tuning', fontsize = 23)\n",
    "\n",
    "img.append(ax[2].imshow(prediction_linear_ft[:,64-delta:64+delta,81], norm = LogNorm(vmin = None, vmax = None)))\n",
    "ax[2].axvline(x = 11.5,color = 'w', linestyle = 'dashed')\n",
    "ax[2].axvline(x = 17.5,color = 'w', linestyle = 'dashed')\n",
    "ax[2].set_title('$\\mathbf{c}$ DL prediction \\n after Fine Tuning', fontsize = 23)\n",
    "\n",
    "\n",
    "ax[0].set_xticks([])\n",
    "ax[1].set_xticks([])\n",
    "ax[2].set_xticks([])\n",
    "\n",
    "ax[0].set_yticks([])\n",
    "ax[1].set_yticks([])\n",
    "ax[2].set_yticks([])\n",
    "\n",
    "for ii, im in enumerate(img):\n",
    "    divider = make_axes_locatable(ax[ii])\n",
    "    cax = divider.append_axes('right', size='5%', pad=0.05)\n",
    "    cbar = fig.colorbar(im, cax=cax, orientation='vertical')\n",
    "    cbar.ax.tick_params(labelsize=19)\n",
    "        \n",
    "fig.tight_layout()\n"
   ]
  },
  {
   "cell_type": "code",
   "execution_count": null,
   "metadata": {},
   "outputs": [],
   "source": []
  }
 ],
 "metadata": {
  "kernelspec": {
   "display_name": "Python (tensorflow-p9)",
   "language": "python",
   "name": "tensorflow-p9"
  },
  "language_info": {
   "codemirror_mode": {
    "name": "ipython",
    "version": 3
   },
   "file_extension": ".py",
   "mimetype": "text/x-python",
   "name": "python",
   "nbconvert_exporter": "python",
   "pygments_lexer": "ipython3",
   "version": "3.8.10"
  }
 },
 "nbformat": 4,
 "nbformat_minor": 5
}
